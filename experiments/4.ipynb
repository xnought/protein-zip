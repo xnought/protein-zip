{
 "cells": [
  {
   "cell_type": "code",
   "execution_count": 1,
   "metadata": {},
   "outputs": [],
   "source": [
    "A_PDB = \"../data/A.pdb\"\n",
    "data = None\n",
    "with open(A_PDB, \"r\") as in_file:\n",
    "\tdata = in_file.read()"
   ]
  },
  {
   "cell_type": "code",
   "execution_count": 2,
   "metadata": {},
   "outputs": [],
   "source": [
    "def mb(string: str, k = 1024):\n",
    "\treturn len(string) / (k*k)"
   ]
  },
  {
   "cell_type": "code",
   "execution_count": 3,
   "metadata": {},
   "outputs": [],
   "source": [
    "# first I want to parse the string to read the unique characters in the file\n",
    "def char_frequencies(string: str) -> dict[str, int]:\n",
    "\tfreqs = {}\n",
    "\tfor char in string:\n",
    "\t\tif char not in freqs:\n",
    "\t\t\tfreqs[char] = 0\n",
    "\t\telse:\n",
    "\t\t\tfreqs[char] += 1\n",
    "\treturn freqs"
   ]
  },
  {
   "cell_type": "code",
   "execution_count": 4,
   "metadata": {},
   "outputs": [
    {
     "data": {
      "text/plain": [
       "{'M': 27120,\n",
       " 'O': 37836,\n",
       " 'D': 3393,\n",
       " 'E': 10295,\n",
       " 'L': 14156,\n",
       " ' ': 887763,\n",
       " '1': 127074,\n",
       " '\\n': 26754,\n",
       " 'A': 64749,\n",
       " 'T': 29876,\n",
       " 'N': 11958,\n",
       " '-': 38823,\n",
       " '2': 95921,\n",
       " '5': 69215,\n",
       " '.': 133754,\n",
       " '8': 60099,\n",
       " '0': 111676,\n",
       " '4': 71186,\n",
       " '3': 76945,\n",
       " '9': 57091,\n",
       " '6': 64746,\n",
       " 'C': 34267,\n",
       " '7': 62000,\n",
       " 'B': 3201,\n",
       " 'G': 8583,\n",
       " 'S': 9036,\n",
       " 'U': 4521,\n",
       " 'H': 4195,\n",
       " 'I': 2907,\n",
       " 'P': 4253,\n",
       " 'R': 6146,\n",
       " 'V': 1462,\n",
       " 'Z': 715,\n",
       " 'Y': 5405}"
      ]
     },
     "execution_count": 4,
     "metadata": {},
     "output_type": "execute_result"
    }
   ],
   "source": [
    "# todo: make MODEL a character so I don't encode those separately and ATOM no need to model char separately\n",
    "char_frequencies(data)"
   ]
  },
  {
   "cell_type": "code",
   "execution_count": 5,
   "metadata": {},
   "outputs": [],
   "source": [
    "freqs = char_frequencies(data)"
   ]
  },
  {
   "cell_type": "code",
   "execution_count": 6,
   "metadata": {},
   "outputs": [
    {
     "name": "stdout",
     "output_type": "stream",
     "text": [
      "True\n",
      "False\n"
     ]
    },
    {
     "data": {
      "text/plain": [
       "HuffLeaf({'freq': 1, 'lchild': None, 'rchild': None, 'char': 'A'})"
      ]
     },
     "execution_count": 6,
     "metadata": {},
     "output_type": "execute_result"
    }
   ],
   "source": [
    "class HuffNode():\n",
    "\tdef __init__(self, freq: int, lchild: \"HuffNode\" = None, rchild: \"HuffNode\" = None):\n",
    "\t\tself.freq = freq\n",
    "\t\tself.lchild = lchild\n",
    "\t\tself.rchild = rchild\n",
    "\tdef __repr__(self):\n",
    "\t\treturn self.__class__.__name__ + \"(\" + self.__dict__.__str__() + \")\"\n",
    "\n",
    "class HuffLeaf(HuffNode):\n",
    "\tdef __init__(self, freq: int, char: str):\n",
    "\t\tsuper().__init__(freq)\n",
    "\t\tself.char = char\n",
    "\n",
    "def is_leaf(node: HuffNode):\n",
    "\treturn node.__class__ is HuffLeaf\n",
    "\n",
    "a = HuffLeaf(1, 'A')\n",
    "b = HuffNode(12)\n",
    "\n",
    "print(is_leaf(a))\n",
    "print(is_leaf(b))\n",
    "a"
   ]
  },
  {
   "cell_type": "code",
   "execution_count": 18,
   "metadata": {},
   "outputs": [],
   "source": [
    "from heapq import heapify, heappop, heappush\n",
    "\n",
    "def node_to_heapq_format(node: HuffNode):\n",
    "\treturn (-node.freq, node) # prioritize long frequencies so reverse priority queue order\n",
    "\n",
    "def heapq_format_to_node(heapq_item: tuple[int, HuffNode]):\n",
    "\treturn heapq_item[1] # (priority, node)[1] selects node\n",
    "\n",
    "class HuffQueue():\n",
    "\tdef __init__(self, freqs: dict[str, int]):\n",
    "\t\tself.priority_queue = []\n",
    "\t\theapify(self.priority_queue)\n",
    "\t\t\n",
    "\t\t# add all the leaves (characters) first\n",
    "\t\tfor c, f in freqs.items():\n",
    "\t\t\tself.push(HuffLeaf(freq=f, char=c))\n",
    "\n",
    "\tdef pop(self) -> HuffNode:\n",
    "\t\treturn heapq_format_to_node(heappop(self.priority_queue))\n",
    "\n",
    "\tdef push(self, new_node: HuffNode):\n",
    "\t\theappush(self.priority_queue, node_to_heapq_format(new_node))\n",
    "\t\n",
    "\tdef peak(self) -> HuffNode:\n",
    "\t\treturn heapq_format_to_node(self.priority_queue[0])\n",
    "\t\n",
    "\tdef __repr__(self) -> str:\n",
    "\t\treturn f\"HuffQueue(len={len(self.priority_queue)}, top={self.peak()})\"\n",
    "\t\t\n",
    "q = HuffQueue(freqs)"
   ]
  },
  {
   "cell_type": "code",
   "execution_count": 24,
   "metadata": {},
   "outputs": [
    {
     "name": "stdout",
     "output_type": "stream",
     "text": [
      "HuffQueue(len=34, top=HuffLeaf({'freq': 887763, 'lchild': None, 'rchild': None, 'char': ' '}))\n"
     ]
    }
   ],
   "source": [
    "def huffman_code(freqs: dict[str, int]) -> HuffNode:\n",
    "\t\"\"\"Returns the root node of the tree\"\"\"\n",
    "\n",
    "\tq = HuffQueue(freqs)\n",
    "\tprint(q)\n",
    "\t\n",
    "\treturn\n",
    "\n",
    "huffman_code(freqs)"
   ]
  },
  {
   "cell_type": "code",
   "execution_count": null,
   "metadata": {},
   "outputs": [],
   "source": []
  }
 ],
 "metadata": {
  "kernelspec": {
   "display_name": "Python 3",
   "language": "python",
   "name": "python3"
  },
  "language_info": {
   "codemirror_mode": {
    "name": "ipython",
    "version": 3
   },
   "file_extension": ".py",
   "mimetype": "text/x-python",
   "name": "python",
   "nbconvert_exporter": "python",
   "pygments_lexer": "ipython3",
   "version": "3.11.6"
  }
 },
 "nbformat": 4,
 "nbformat_minor": 2
}
