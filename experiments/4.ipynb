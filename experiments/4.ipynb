{
 "cells": [
  {
   "cell_type": "code",
   "execution_count": 54,
   "metadata": {},
   "outputs": [],
   "source": [
    "A_PDB = \"../data/A.pdb\"\n",
    "data = None\n",
    "with open(A_PDB, \"r\") as in_file:\n",
    "\tdata = in_file.read()"
   ]
  },
  {
   "cell_type": "code",
   "execution_count": 55,
   "metadata": {},
   "outputs": [],
   "source": [
    "def mb(string: str, k = 1024):\n",
    "\treturn len(string) / (k*k)"
   ]
  },
  {
   "cell_type": "code",
   "execution_count": 56,
   "metadata": {},
   "outputs": [],
   "source": [
    "# first I want to parse the string to read the unique characters in the file\n",
    "def char_frequencies(string: str) -> dict[str, int]:\n",
    "\tfreqs = {}\n",
    "\tfor char in string:\n",
    "\t\tif char not in freqs:\n",
    "\t\t\tfreqs[char] = 0\n",
    "\t\telse:\n",
    "\t\t\tfreqs[char] += 1\n",
    "\treturn freqs"
   ]
  },
  {
   "cell_type": "code",
   "execution_count": 57,
   "metadata": {},
   "outputs": [
    {
     "data": {
      "text/plain": [
       "{'M': 27120,\n",
       " 'O': 37836,\n",
       " 'D': 3393,\n",
       " 'E': 10295,\n",
       " 'L': 14156,\n",
       " ' ': 887763,\n",
       " '1': 127074,\n",
       " '\\n': 26754,\n",
       " 'A': 64749,\n",
       " 'T': 29876,\n",
       " 'N': 11958,\n",
       " '-': 38823,\n",
       " '2': 95921,\n",
       " '5': 69215,\n",
       " '.': 133754,\n",
       " '8': 60099,\n",
       " '0': 111676,\n",
       " '4': 71186,\n",
       " '3': 76945,\n",
       " '9': 57091,\n",
       " '6': 64746,\n",
       " 'C': 34267,\n",
       " '7': 62000,\n",
       " 'B': 3201,\n",
       " 'G': 8583,\n",
       " 'S': 9036,\n",
       " 'U': 4521,\n",
       " 'H': 4195,\n",
       " 'I': 2907,\n",
       " 'P': 4253,\n",
       " 'R': 6146,\n",
       " 'V': 1462,\n",
       " 'Z': 715,\n",
       " 'Y': 5405}"
      ]
     },
     "execution_count": 57,
     "metadata": {},
     "output_type": "execute_result"
    }
   ],
   "source": [
    "# todo: make MODEL a character so I don't encode those separately and ATOM no need to model char separately\n",
    "char_frequencies(data)"
   ]
  },
  {
   "cell_type": "code",
   "execution_count": 58,
   "metadata": {},
   "outputs": [],
   "source": [
    "freqs = char_frequencies(data)"
   ]
  },
  {
   "cell_type": "code",
   "execution_count": 59,
   "metadata": {},
   "outputs": [
    {
     "name": "stdout",
     "output_type": "stream",
     "text": [
      "True\n",
      "False\n"
     ]
    },
    {
     "data": {
      "text/plain": [
       "HuffLeaf({'freq': 1, 'lchild': None, 'rchild': None, 'char': 'A'})"
      ]
     },
     "execution_count": 59,
     "metadata": {},
     "output_type": "execute_result"
    }
   ],
   "source": [
    "class HuffNode():\n",
    "\tdef __init__(self, freq: int, lchild: \"HuffNode\" = None, rchild: \"HuffNode\" = None):\n",
    "\t\tself.freq = freq\n",
    "\t\tself.lchild = lchild\n",
    "\t\tself.rchild = rchild\n",
    "\tdef __repr__(self):\n",
    "\t\treturn self.__class__.__name__ + \"(\" + self.__dict__.__str__() + \")\"\n",
    "\n",
    "class HuffLeaf(HuffNode):\n",
    "\tdef __init__(self, freq: int, char: str):\n",
    "\t\tsuper().__init__(freq)\n",
    "\t\tself.char = char\n",
    "\n",
    "def is_leaf(node: HuffNode):\n",
    "\treturn node.__class__ is HuffLeaf\n",
    "\n",
    "a = HuffLeaf(1, 'A')\n",
    "b = HuffNode(12)\n",
    "\n",
    "print(is_leaf(a))\n",
    "print(is_leaf(b))\n",
    "a"
   ]
  },
  {
   "cell_type": "code",
   "execution_count": 60,
   "metadata": {},
   "outputs": [],
   "source": [
    "from heapq import heapify, heappop, heappush\n",
    "\n",
    "def node_to_heapq_format(node: HuffNode):\n",
    "\treturn (node.freq, node) # high frequency ones should come up first\n",
    "\n",
    "\n",
    "def heapq_format_to_node(heapq_item: tuple[int, HuffNode]):\n",
    "\treturn heapq_item[1] # (priority, node)[1] selects node\n",
    "\n",
    "class HuffQueue():\n",
    "\tdef __init__(self, freqs: dict[str, int]):\n",
    "\t\tself.priority_queue = []\n",
    "\t\theapify(self.priority_queue)\n",
    "\t\t\n",
    "\t\t# add all the leaves (characters) first\n",
    "\t\tfor c, f in freqs.items():\n",
    "\t\t\tself.push(HuffLeaf(freq=f, char=c))\n",
    "\n",
    "\tdef pop(self) -> HuffNode:\n",
    "\t\treturn heapq_format_to_node(heappop(self.priority_queue))\n",
    "\n",
    "\tdef push(self, new_node: HuffNode):\n",
    "\t\theappush(self.priority_queue, node_to_heapq_format(new_node))\n",
    "\t\n",
    "\tdef peak(self) -> HuffNode:\n",
    "\t\treturn heapq_format_to_node(self.priority_queue[0])\n",
    "\t\n",
    "\tdef __len__(self) -> int:\n",
    "\t\treturn len(self.priority_queue)\n",
    "\t\n",
    "\tdef __repr__(self) -> str:\n",
    "\t\treturn f\"HuffQueue(len={len(self)}, top={self.peak()})\"\n",
    "\t\t\n",
    "q = HuffQueue(freqs)"
   ]
  },
  {
   "cell_type": "code",
   "execution_count": 61,
   "metadata": {},
   "outputs": [
    {
     "data": {
      "text/plain": [
       "HuffNode({'freq': 2167121, 'lchild': HuffLeaf({'freq': 887763, 'lchild': None, 'rchild': None, 'char': ' '}), 'rchild': HuffNode({'freq': 1279358, 'lchild': HuffNode({'freq': 523681, 'lchild': HuffNode({'freq': 255963, 'lchild': HuffLeaf({'freq': 127074, 'lchild': None, 'rchild': None, 'char': '1'}), 'rchild': HuffNode({'freq': 128889, 'lchild': HuffNode({'freq': 64143, 'lchild': HuffLeaf({'freq': 29876, 'lchild': None, 'rchild': None, 'char': 'T'}), 'rchild': HuffLeaf({'freq': 34267, 'lchild': None, 'rchild': None, 'char': 'C'})}), 'rchild': HuffLeaf({'freq': 64746, 'lchild': None, 'rchild': None, 'char': '6'})})}), 'rchild': HuffNode({'freq': 267718, 'lchild': HuffLeaf({'freq': 133754, 'lchild': None, 'rchild': None, 'char': '.'}), 'rchild': HuffNode({'freq': 133964, 'lchild': HuffLeaf({'freq': 64749, 'lchild': None, 'rchild': None, 'char': 'A'}), 'rchild': HuffLeaf({'freq': 69215, 'lchild': None, 'rchild': None, 'char': '5'})})})}), 'rchild': HuffNode({'freq': 755677, 'lchild': HuffNode({'freq': 312572, 'lchild': HuffNode({'freq': 146541, 'lchild': HuffLeaf({'freq': 71186, 'lchild': None, 'rchild': None, 'char': '4'}), 'rchild': HuffNode({'freq': 75355, 'lchild': HuffNode({'freq': 37519, 'lchild': HuffNode({'freq': 17619, 'lchild': HuffLeaf({'freq': 8583, 'lchild': None, 'rchild': None, 'char': 'G'}), 'rchild': HuffLeaf({'freq': 9036, 'lchild': None, 'rchild': None, 'char': 'S'})}), 'rchild': HuffNode({'freq': 19900, 'lchild': HuffNode({'freq': 9605, 'lchild': HuffLeaf({'freq': 4521, 'lchild': None, 'rchild': None, 'char': 'U'}), 'rchild': HuffNode({'freq': 5084, 'lchild': HuffNode({'freq': 2177, 'lchild': HuffLeaf({'freq': 715, 'lchild': None, 'rchild': None, 'char': 'Z'}), 'rchild': HuffLeaf({'freq': 1462, 'lchild': None, 'rchild': None, 'char': 'V'})}), 'rchild': HuffLeaf({'freq': 2907, 'lchild': None, 'rchild': None, 'char': 'I'})})}), 'rchild': HuffLeaf({'freq': 10295, 'lchild': None, 'rchild': None, 'char': 'E'})})}), 'rchild': HuffLeaf({'freq': 37836, 'lchild': None, 'rchild': None, 'char': 'O'})})}), 'rchild': HuffNode({'freq': 166031, 'lchild': HuffLeaf({'freq': 76945, 'lchild': None, 'rchild': None, 'char': '3'}), 'rchild': HuffNode({'freq': 89086, 'lchild': HuffLeaf({'freq': 38823, 'lchild': None, 'rchild': None, 'char': '-'}), 'rchild': HuffNode({'freq': 50263, 'lchild': HuffNode({'freq': 23509, 'lchild': HuffNode({'freq': 11551, 'lchild': HuffLeaf({'freq': 5405, 'lchild': None, 'rchild': None, 'char': 'Y'}), 'rchild': HuffLeaf({'freq': 6146, 'lchild': None, 'rchild': None, 'char': 'R'})}), 'rchild': HuffLeaf({'freq': 11958, 'lchild': None, 'rchild': None, 'char': 'N'})}), 'rchild': HuffLeaf({'freq': 26754, 'lchild': None, 'rchild': None, 'char': '\\n'})})})})}), 'rchild': HuffNode({'freq': 443105, 'lchild': HuffNode({'freq': 207597, 'lchild': HuffLeaf({'freq': 95921, 'lchild': None, 'rchild': None, 'char': '2'}), 'rchild': HuffLeaf({'freq': 111676, 'lchild': None, 'rchild': None, 'char': '0'})}), 'rchild': HuffNode({'freq': 235508, 'lchild': HuffNode({'freq': 113409, 'lchild': HuffNode({'freq': 56318, 'lchild': HuffLeaf({'freq': 27120, 'lchild': None, 'rchild': None, 'char': 'M'}), 'rchild': HuffNode({'freq': 29198, 'lchild': HuffLeaf({'freq': 14156, 'lchild': None, 'rchild': None, 'char': 'L'}), 'rchild': HuffNode({'freq': 15042, 'lchild': HuffNode({'freq': 6594, 'lchild': HuffLeaf({'freq': 3201, 'lchild': None, 'rchild': None, 'char': 'B'}), 'rchild': HuffLeaf({'freq': 3393, 'lchild': None, 'rchild': None, 'char': 'D'})}), 'rchild': HuffNode({'freq': 8448, 'lchild': HuffLeaf({'freq': 4195, 'lchild': None, 'rchild': None, 'char': 'H'}), 'rchild': HuffLeaf({'freq': 4253, 'lchild': None, 'rchild': None, 'char': 'P'})})})})}), 'rchild': HuffLeaf({'freq': 57091, 'lchild': None, 'rchild': None, 'char': '9'})}), 'rchild': HuffNode({'freq': 122099, 'lchild': HuffLeaf({'freq': 60099, 'lchild': None, 'rchild': None, 'char': '8'}), 'rchild': HuffLeaf({'freq': 62000, 'lchild': None, 'rchild': None, 'char': '7'})})})})})})})"
      ]
     },
     "execution_count": 61,
     "metadata": {},
     "output_type": "execute_result"
    }
   ],
   "source": [
    "def huffman_code(freqs: dict[str, int]) -> HuffNode:\n",
    "    \"\"\"Returns the root node of the tree\"\"\"\n",
    "\n",
    "    q = HuffQueue(freqs)\n",
    "    while len(q) > 1:\n",
    "        # pop two smallest nodes, they are now the bottom of the tree\n",
    "        child_a, child_b = q.pop(), q.pop()\n",
    "        parent = HuffNode(\n",
    "            freq=child_a.freq + child_b.freq, \n",
    "            lchild=child_a, \n",
    "            rchild=child_b\n",
    "        )\n",
    "        # push the nodes (almost think of merged) back into circulation\n",
    "        q.push(parent)\n",
    "\n",
    "    return q.pop() # return the root\n",
    "\n",
    "\n",
    "r = huffman_code(freqs)\n",
    "r"
   ]
  },
  {
   "cell_type": "code",
   "execution_count": 75,
   "metadata": {},
   "outputs": [
    {
     "name": "stdout",
     "output_type": "stream",
     "text": [
      "Node(freq=`2,167,121`)\n",
      "├── Node(freq=`1,279,358`)\n",
      "│   ├── Node(freq=`523,681`)\n",
      "│   │   ├── Node(freq=`255,963`)\n",
      "│   │   │   ├── Node(freq=`127,074`)\n",
      "│   │   │   │   └── Leaf(char=`1`, freq=`127,074`)\n",
      "│   │   │   └── Node(freq=`128,889`)\n",
      "│   │   │       ├── Node(freq=`64,143`)\n",
      "│   │   │       │   ├── Node(freq=`29,876`)\n",
      "│   │   │       │   │   └── Leaf(char=`T`, freq=`29,876`)\n",
      "│   │   │       │   └── Node(freq=`34,267`)\n",
      "│   │   │       │       └── Leaf(char=`C`, freq=`34,267`)\n",
      "│   │   │       └── Node(freq=`64,746`)\n",
      "│   │   │           └── Leaf(char=`6`, freq=`64,746`)\n",
      "│   │   └── Node(freq=`267,718`)\n",
      "│   │       ├── Node(freq=`133,754`)\n",
      "│   │       │   └── Leaf(char=`.`, freq=`133,754`)\n",
      "│   │       └── Node(freq=`133,964`)\n",
      "│   │           ├── Node(freq=`64,749`)\n",
      "│   │           │   └── Leaf(char=`A`, freq=`64,749`)\n",
      "│   │           └── Node(freq=`69,215`)\n",
      "│   │               └── Leaf(char=`5`, freq=`69,215`)\n",
      "│   └── Node(freq=`755,677`)\n",
      "│       ├── Node(freq=`312,572`)\n",
      "│       │   ├── Node(freq=`146,541`)\n",
      "│       │   │   ├── Node(freq=`71,186`)\n",
      "│       │   │   │   └── Leaf(char=`4`, freq=`71,186`)\n",
      "│       │   │   └── Node(freq=`75,355`)\n",
      "│       │   │       ├── Node(freq=`37,519`)\n",
      "│       │   │       │   ├── Node(freq=`17,619`)\n",
      "│       │   │       │   │   ├── Node(freq=`8,583`)\n",
      "│       │   │       │   │   │   └── Leaf(char=`G`, freq=`8,583`)\n",
      "│       │   │       │   │   └── Node(freq=`9,036`)\n",
      "│       │   │       │   │       └── Leaf(char=`S`, freq=`9,036`)\n",
      "│       │   │       │   └── Node(freq=`19,900`)\n",
      "│       │   │       │       ├── Node(freq=`10,295`)\n",
      "│       │   │       │       │   └── Leaf(char=`E`, freq=`10,295`)\n",
      "│       │   │       │       └── Node(freq=`9,605`)\n",
      "│       │   │       │           ├── Node(freq=`4,521`)\n",
      "│       │   │       │           │   └── Leaf(char=`U`, freq=`4,521`)\n",
      "│       │   │       │           └── Node(freq=`5,084`)\n",
      "│       │   │       │               ├── Node(freq=`2,177`)\n",
      "│       │   │       │               │   ├── Node(freq=`1,462`)\n",
      "│       │   │       │               │   │   └── Leaf(char=`V`, freq=`1,462`)\n",
      "│       │   │       │               │   └── Node(freq=`715`)\n",
      "│       │   │       │               │       └── Leaf(char=`Z`, freq=`715`)\n",
      "│       │   │       │               └── Node(freq=`2,907`)\n",
      "│       │   │       │                   └── Leaf(char=`I`, freq=`2,907`)\n",
      "│       │   │       └── Node(freq=`37,836`)\n",
      "│       │   │           └── Leaf(char=`O`, freq=`37,836`)\n",
      "│       │   └── Node(freq=`166,031`)\n",
      "│       │       ├── Node(freq=`76,945`)\n",
      "│       │       │   └── Leaf(char=`3`, freq=`76,945`)\n",
      "│       │       └── Node(freq=`89,086`)\n",
      "│       │           ├── Node(freq=`38,823`)\n",
      "│       │           │   └── Leaf(char=`-`, freq=`38,823`)\n",
      "│       │           └── Node(freq=`50,263`)\n",
      "│       │               ├── Node(freq=`23,509`)\n",
      "│       │               │   ├── Node(freq=`11,551`)\n",
      "│       │               │   │   ├── Node(freq=`5,405`)\n",
      "│       │               │   │   │   └── Leaf(char=`Y`, freq=`5,405`)\n",
      "│       │               │   │   └── Node(freq=`6,146`)\n",
      "│       │               │   │       └── Leaf(char=`R`, freq=`6,146`)\n",
      "│       │               │   └── Node(freq=`11,958`)\n",
      "│       │               │       └── Leaf(char=`N`, freq=`11,958`)\n",
      "│       │               └── Node(freq=`26,754`)\n",
      "│       │                   └── Leaf(char=`\n",
      "`, freq=`26,754`)\n",
      "│       └── Node(freq=`443,105`)\n",
      "│           ├── Node(freq=`207,597`)\n",
      "│           │   ├── Node(freq=`111,676`)\n",
      "│           │   │   └── Leaf(char=`0`, freq=`111,676`)\n",
      "│           │   └── Node(freq=`95,921`)\n",
      "│           │       └── Leaf(char=`2`, freq=`95,921`)\n",
      "│           └── Node(freq=`235,508`)\n",
      "│               ├── Node(freq=`113,409`)\n",
      "│               │   ├── Node(freq=`56,318`)\n",
      "│               │   │   ├── Node(freq=`27,120`)\n",
      "│               │   │   │   └── Leaf(char=`M`, freq=`27,120`)\n",
      "│               │   │   └── Node(freq=`29,198`)\n",
      "│               │   │       ├── Node(freq=`14,156`)\n",
      "│               │   │       │   └── Leaf(char=`L`, freq=`14,156`)\n",
      "│               │   │       └── Node(freq=`15,042`)\n",
      "│               │   │           ├── Node(freq=`6,594`)\n",
      "│               │   │           │   ├── Node(freq=`3,201`)\n",
      "│               │   │           │   │   └── Leaf(char=`B`, freq=`3,201`)\n",
      "│               │   │           │   └── Node(freq=`3,393`)\n",
      "│               │   │           │       └── Leaf(char=`D`, freq=`3,393`)\n",
      "│               │   │           └── Node(freq=`8,448`)\n",
      "│               │   │               ├── Node(freq=`4,195`)\n",
      "│               │   │               │   └── Leaf(char=`H`, freq=`4,195`)\n",
      "│               │   │               └── Node(freq=`4,253`)\n",
      "│               │   │                   └── Leaf(char=`P`, freq=`4,253`)\n",
      "│               │   └── Node(freq=`57,091`)\n",
      "│               │       └── Leaf(char=`9`, freq=`57,091`)\n",
      "│               └── Node(freq=`122,099`)\n",
      "│                   ├── Node(freq=`60,099`)\n",
      "│                   │   └── Leaf(char=`8`, freq=`60,099`)\n",
      "│                   └── Node(freq=`62,000`)\n",
      "│                       └── Leaf(char=`7`, freq=`62,000`)\n",
      "└── Node(freq=`887,763`)\n",
      "    └── Leaf(char=` `, freq=`887,763`)\n",
      "\n"
     ]
    }
   ],
   "source": [
    "from treelib import Tree\n",
    "def node_fmt(node: HuffNode):\n",
    "\treturn f\"Node(freq=`{node.freq:,}`)\"\n",
    "\n",
    "def huffman_code_to_treelib(root: HuffNode):\n",
    "\t# add parent first\n",
    "\tglobal_id = 0\n",
    "\tt = Tree()\n",
    "\tt.create_node(node_fmt(root), global_id)\n",
    "\n",
    "\t# then add children\n",
    "\tdef traverse(node: HuffNode, parent_id):\n",
    "\t\tnonlocal global_id, t\n",
    "\t\tif is_leaf(node):\n",
    "\t\t\tglobal_id += 1\n",
    "\t\t\tt.create_node(f\"Leaf(char=`{node.char}`, freq=`{node.freq:,}`)\", global_id, parent=parent_id)\n",
    "\t\t\treturn\n",
    "\n",
    "\t\tglobal_id += 1\n",
    "\t\tt.create_node(node_fmt(node.lchild), global_id, parent=parent_id)\n",
    "\t\ttraverse(node.lchild, parent_id=global_id)\n",
    "\n",
    "\t\tglobal_id += 1\n",
    "\t\tt.create_node(node_fmt(node.rchild), global_id, parent=parent_id)\n",
    "\t\ttraverse(node.rchild, parent_id=global_id)\n",
    "\n",
    "\ttraverse(root, global_id)\n",
    "\n",
    "\treturn t\n",
    "\n",
    "print(huffman_code_to_treelib(r))\n",
    "huffman_code_to_treelib(r).save2file(\"example\")"
   ]
  },
  {
   "cell_type": "code",
   "execution_count": null,
   "metadata": {},
   "outputs": [],
   "source": []
  }
 ],
 "metadata": {
  "kernelspec": {
   "display_name": "Python 3",
   "language": "python",
   "name": "python3"
  },
  "language_info": {
   "codemirror_mode": {
    "name": "ipython",
    "version": 3
   },
   "file_extension": ".py",
   "mimetype": "text/x-python",
   "name": "python",
   "nbconvert_exporter": "python",
   "pygments_lexer": "ipython3",
   "version": "3.11.6"
  }
 },
 "nbformat": 4,
 "nbformat_minor": 2
}
