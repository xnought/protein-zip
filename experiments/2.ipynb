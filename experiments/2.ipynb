{
 "cells": [
  {
   "cell_type": "code",
   "execution_count": 3,
   "metadata": {},
   "outputs": [],
   "source": [
    "A_PDB = \"../data/A.pdb\"\n",
    "data = None\n",
    "with open(A_PDB, \"r\") as in_file:\n",
    "\tdata = in_file.read()"
   ]
  },
  {
   "cell_type": "code",
   "execution_count": 4,
   "metadata": {},
   "outputs": [],
   "source": [
    "def mb(string: str, k = 1024):\n",
    "\treturn len(string) / (k*k)"
   ]
  },
  {
   "cell_type": "code",
   "execution_count": 5,
   "metadata": {},
   "outputs": [],
   "source": [
    "# first I want to parse the string to read the unique characters in the file\n",
    "def char_frequencies(string: str) -> dict[str, int]:\n",
    "\tfreqs = {}\n",
    "\tfor char in string:\n",
    "\t\tif char not in freqs:\n",
    "\t\t\tfreqs[char] = 0\n",
    "\t\telse:\n",
    "\t\t\tfreqs[char] += 1\n",
    "\treturn freqs"
   ]
  },
  {
   "cell_type": "code",
   "execution_count": 6,
   "metadata": {},
   "outputs": [
    {
     "data": {
      "text/plain": [
       "{'M': 27120,\n",
       " 'O': 37836,\n",
       " 'D': 3393,\n",
       " 'E': 10295,\n",
       " 'L': 14156,\n",
       " ' ': 887763,\n",
       " '1': 127074,\n",
       " '\\n': 26754,\n",
       " 'A': 64749,\n",
       " 'T': 29876,\n",
       " 'N': 11958,\n",
       " '-': 38823,\n",
       " '2': 95921,\n",
       " '5': 69215,\n",
       " '.': 133754,\n",
       " '8': 60099,\n",
       " '0': 111676,\n",
       " '4': 71186,\n",
       " '3': 76945,\n",
       " '9': 57091,\n",
       " '6': 64746,\n",
       " 'C': 34267,\n",
       " '7': 62000,\n",
       " 'B': 3201,\n",
       " 'G': 8583,\n",
       " 'S': 9036,\n",
       " 'U': 4521,\n",
       " 'H': 4195,\n",
       " 'I': 2907,\n",
       " 'P': 4253,\n",
       " 'R': 6146,\n",
       " 'V': 1462,\n",
       " 'Z': 715,\n",
       " 'Y': 5405}"
      ]
     },
     "execution_count": 6,
     "metadata": {},
     "output_type": "execute_result"
    }
   ],
   "source": [
    "# todo: make MODEL a character so I don't encode those separately and ATOM no need to model char separately\n",
    "char_frequencies(data)"
   ]
  },
  {
   "cell_type": "code",
   "execution_count": 8,
   "metadata": {},
   "outputs": [],
   "source": [
    "freqs = char_frequencies(data)"
   ]
  },
  {
   "cell_type": "code",
   "execution_count": 18,
   "metadata": {},
   "outputs": [
    {
     "data": {
      "text/plain": [
       "[(' ', 887763),\n",
       " ('.', 133754),\n",
       " ('1', 127074),\n",
       " ('0', 111676),\n",
       " ('2', 95921),\n",
       " ('3', 76945),\n",
       " ('4', 71186),\n",
       " ('5', 69215),\n",
       " ('A', 64749),\n",
       " ('6', 64746),\n",
       " ('7', 62000),\n",
       " ('8', 60099),\n",
       " ('9', 57091),\n",
       " ('-', 38823),\n",
       " ('O', 37836),\n",
       " ('C', 34267),\n",
       " ('T', 29876),\n",
       " ('M', 27120),\n",
       " ('\\n', 26754),\n",
       " ('L', 14156),\n",
       " ('N', 11958),\n",
       " ('E', 10295),\n",
       " ('S', 9036),\n",
       " ('G', 8583),\n",
       " ('R', 6146),\n",
       " ('Y', 5405),\n",
       " ('U', 4521),\n",
       " ('P', 4253),\n",
       " ('H', 4195),\n",
       " ('D', 3393),\n",
       " ('B', 3201),\n",
       " ('I', 2907),\n",
       " ('V', 1462),\n",
       " ('Z', 715)]"
      ]
     },
     "execution_count": 18,
     "metadata": {},
     "output_type": "execute_result"
    }
   ],
   "source": [
    "# the most least frequent we can assume will come up not that many times, so can afford to be a longer encoding\n",
    "# the more frequent should have less characters it represents\n",
    "def sort_freqs(freqs: dict[str, int]) -> list[tuple[str, int]]:\n",
    "\treturn sorted([(k, v) for k,v in freqs.items()], key=lambda x: x[1], reverse=True)\n",
    "\n",
    "sorted_freqs = sort_freqs(freqs)\n",
    "sorted_freqs"
   ]
  },
  {
   "cell_type": "code",
   "execution_count": null,
   "metadata": {},
   "outputs": [],
   "source": []
  }
 ],
 "metadata": {
  "kernelspec": {
   "display_name": "Python 3",
   "language": "python",
   "name": "python3"
  },
  "language_info": {
   "codemirror_mode": {
    "name": "ipython",
    "version": 3
   },
   "file_extension": ".py",
   "mimetype": "text/x-python",
   "name": "python",
   "nbconvert_exporter": "python",
   "pygments_lexer": "ipython3",
   "version": "3.11.6"
  }
 },
 "nbformat": 4,
 "nbformat_minor": 2
}
